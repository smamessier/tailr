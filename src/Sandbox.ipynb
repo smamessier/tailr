{
    "cells": [
        {
            "cell_type": "code",
            "execution_count": 1,
            "metadata": {},
            "outputs": [],
            "source": [
                "import torch\n",
                "import torch.nn.functional as F\n",
                "import torch.nn as nn\n",
                "import numpy as np\n",
                "from PIL import Image\n",
                "import tensorflow as tf\n",
                "import tensorflow_probability as tfp"
            ]
        },
        {
            "cell_type": "code",
            "execution_count": 2,
            "metadata": {},
            "outputs": [],
            "source": [
                "x_in = np.array([[\n",
                "  [[2], [1], [2], [0], [1]],\n",
                "  [[1], [3], [2], [2], [3]],\n",
                "  [[1], [1], [3], [3], [0]],\n",
                "  [[2], [2], [0], [1], [1]],\n",
                "  [[0], [0], [3], [1], [2]], ]])\n",
                "kernel_in = np.array([\n",
                " [ [[2, 0.1]], [[3, 0.2]] ],\n",
                " [ [[0, 0.3]],[[1, 0.4]] ], ])"
            ]
        },
        {
            "cell_type": "code",
            "execution_count": 5,
            "metadata": {},
            "outputs": [
                {
                    "name": "stdout",
                    "output_type": "stream",
                    "text": [
                        "(1, 5, 5, 1)\n",
                        "tf.Tensor(\n",
                        "[[[[ 2.765432  ]\n",
                        "   [ 0.6969422 ]\n",
                        "   [ 1.6825737 ]\n",
                        "   [ 1.7291266 ]\n",
                        "   [-0.7462553 ]]\n",
                        "\n",
                        "  [[ 0.41101313]\n",
                        "   [ 2.95953   ]\n",
                        "   [ 1.8994884 ]\n",
                        "   [-0.83900607]\n",
                        "   [ 1.0125687 ]]\n",
                        "\n",
                        "  [[ 1.2016262 ]\n",
                        "   [-0.8152696 ]\n",
                        "   [ 1.4473183 ]\n",
                        "   [ 1.5163326 ]\n",
                        "   [-0.3612594 ]]\n",
                        "\n",
                        "  [[ 0.3881967 ]\n",
                        "   [ 3.2701159 ]\n",
                        "   [-0.36217946]\n",
                        "   [ 1.5628855 ]\n",
                        "   [-0.38499588]]\n",
                        "\n",
                        "  [[ 0.        ]\n",
                        "   [-0.4302737 ]\n",
                        "   [ 0.86914414]\n",
                        "   [ 0.05067378]\n",
                        "   [ 0.67504585]]]], shape=(1, 5, 5, 1), dtype=float32)\n"
                    ]
                }
            ],
            "source": [
                "x_tf = tf.constant(x_in, dtype=tf.float32)\n",
                "kernel_tf = tf.constant(kernel_in, dtype=tf.float32)\n",
                "#NHWC\n",
                "conv_tf = tf.compat.v1.layers.Conv2D(filters=1, kernel_size=2, strides=1, padding='same')\n",
                "result = conv_tf(x_tf)\n",
                "print(result.shape)\n",
                "print(result)"
            ]
        },
        {
            "cell_type": "code",
            "execution_count": 6,
            "metadata": {},
            "outputs": [
                {
                    "name": "stdout",
                    "output_type": "stream",
                    "text": [
                        "torch.Size([1, 1, 6, 6])\n",
                        "tensor([[[[-0.4728,  0.5362, -0.0578,  0.7152, -0.2938,  0.3002],\n",
                        "          [ 0.2692,  0.6847,  1.6551,  0.9972,  0.4596,  1.4502],\n",
                        "          [-0.0123,  1.2857,  1.2862,  1.7961,  2.6147,  0.8453],\n",
                        "          [-0.1913,  0.9587,  1.8798,  1.5108,  1.0813,  0.3002],\n",
                        "          [ 0.4483,  1.0883, -0.0118,  1.2326,  0.5437,  1.0352],\n",
                        "          [-0.1147, -0.1147,  0.7298,  1.1268,  0.7683,  0.5253]]]],\n",
                        "       grad_fn=<MkldnnConvolutionBackward>)\n"
                    ]
                }
            ],
            "source": [
                "conv_torch = torch.nn.Conv2d(in_channels=1, out_channels=1, kernel_size=2, stride=1, padding=[1,1])\n",
                "\n",
                "#NHWC\n",
                "result = conv_torch(torch.Tensor(x_in).permute(0, 3, 1, 2))\n",
                "print(result.shape)\n",
                "print(result)"
            ]
        },
        {
            "cell_type": "code",
            "execution_count": 8,
            "metadata": {},
            "outputs": [
                {
                    "name": "stdout",
                    "output_type": "stream",
                    "text": [
                        "[[[[ 0.10685101]\n",
                        "   [ 0.14822003]\n",
                        "   [ 0.21576503]\n",
                        "   [ 0.26216057]\n",
                        "   [ 0.22079153]]\n",
                        "\n",
                        "  [[ 0.07855638]\n",
                        "   [ 0.10904041]\n",
                        "   [ 0.15162493]\n",
                        "   [ 0.07412992]\n",
                        "   [ 0.0436459 ]]\n",
                        "\n",
                        "  [[ 0.17130353]\n",
                        "   [ 0.1990975 ]\n",
                        "   [ 0.19694874]\n",
                        "   [ 0.02901948]\n",
                        "   [ 0.00122551]]\n",
                        "\n",
                        "  [[-0.00358089]\n",
                        "   [ 0.02938301]\n",
                        "   [ 0.11889391]\n",
                        "   [ 0.08229198]\n",
                        "   [ 0.04932808]]\n",
                        "\n",
                        "  [[-0.09496856]\n",
                        "   [-0.05174674]\n",
                        "   [ 0.03879448]\n",
                        "   [ 0.11960129]\n",
                        "   [ 0.07637948]]]]\n",
                        "Mean of Abs Diff: 0.0\n"
                    ]
                }
            ],
            "source": [
                "np.random.seed(0)\n",
                "from typing import List, Tuple\n",
                "# Create random weights and input\n",
                "weights = torch.empty(1, 1, 2, 3)\n",
                "torch.nn.init.constant_(weights, 5e-2)\n",
                "x = np.random.randn(1, 1, 5, 5)\n",
                "\n",
                "weights_tf = tf.convert_to_tensor(weights.numpy().transpose(2, 3, 1, 0), dtype=tf.float32)\n",
                "weights_torch = torch.Tensor(weights)\n",
                "\n",
                "# Tensorflow padding behavior. Assuming that kH == kW to keep this simple.\n",
                "stride = 1\n",
                "\n",
                "def get_padding(kernel_size: List[int], input_size: List[int], stride: int) -> Tuple[int]:\n",
                "    \n",
                "    if input_size[2] % stride == 0:\n",
                "        pad1 = max(kernel_size[3] - stride, 0)\n",
                "    else:\n",
                "        pad1 = max(kernel_size[3] - (input_size[2] % stride), 0)\n",
                "    \n",
                "    if input_size[3] % stride == 0:\n",
                "        pad2 = max(kernel_size[2] - stride, 0)\n",
                "    else:\n",
                "        pad2 = max(kernel_size[2] - (input_size[3] % stride), 0)\n",
                "\n",
                "    padding = [0, 0, 0, 0]\n",
                "    if pad1 % 2 == 0:\n",
                "        pad_val1 = pad1 // 2\n",
                "        padding[0] =  pad_val1\n",
                "        padding[1] =  pad_val1\n",
                "    else:\n",
                "        pad_val_start = pad1 // 2\n",
                "        pad_val_end = pad1 - pad_val_start\n",
                "        padding[0] = pad_val_start\n",
                "        padding[1] = pad_val_end\n",
                "\n",
                "    \n",
                "    if pad2 % 2 == 0:\n",
                "        pad_val2 = pad2 // 2\n",
                "        padding[2] =  pad_val2\n",
                "        padding[3] =  pad_val2\n",
                "    else:\n",
                "        pad_val_start = pad2 // 2\n",
                "        pad_val_end = pad2 - pad_val_start\n",
                "        padding[2] = pad_val_start\n",
                "        padding[3] = pad_val_end\n",
                "    \n",
                "    return padding\n",
                "    \n",
                "padding = get_padding(weights.shape, x.shape, stride)\n",
                "\n",
                "        \n",
                "x_tf = tf.convert_to_tensor(x.transpose((0, 2, 3, 1)), dtype=tf.float32)\n",
                "x_torch = torch.Tensor(x)\n",
                "x_torch = F.pad(x_torch, padding, \"constant\", 0)\n",
                "\n",
                "# TF Conv2D\n",
                "tf_result = tf.nn.conv2d(x_tf,\n",
                "                         weights_tf,\n",
                "                         strides=[1, stride, stride, 1],\n",
                "                         padding=\"SAME\")\n",
                "\n",
                "# PyTorch Conv2D\n",
                "torch_conv2d = F.conv2d(x_torch, weights_torch, padding=0, stride=stride)\n",
                "\n",
                "print(torch_conv2d.detach().permute(0, 2, 3, 1).numpy())\n",
                "\n",
                "diff = np.mean(np.abs(tf_result - torch_conv2d.detach().permute(0, 2, 3, 1).numpy()))\n",
                "print('Mean of Abs Diff: {0}'.format(diff))"
            ]
        },
        {
            "cell_type": "code",
            "execution_count": 3,
            "metadata": {},
            "outputs": [],
            "source": [
                "probs_p = [0.1, 0.4, 0.4, 0.1]\n",
                "p = tfp.distributions.OneHotCategorical(probs=probs_p)\n",
                "\n",
                "probs_q = [0.25, 0.25, 0.25, 0.25]\n",
                "q = tfp.distributions.OneHotCategorical(probs=probs_q)"
            ]
        },
        {
            "cell_type": "code",
            "execution_count": 4,
            "metadata": {},
            "outputs": [],
            "source": [
                "kl = tfp.distributions.kl_divergence(q, p)"
            ]
        },
        {
            "cell_type": "code",
            "execution_count": 5,
            "metadata": {},
            "outputs": [
                {
                    "name": "stdout",
                    "output_type": "stream",
                    "text": [
                        "0.223143578\n"
                    ]
                }
            ],
            "source": [
                "tf.print(kl)"
            ]
        },
        {
            "cell_type": "code",
            "execution_count": 58,
            "metadata": {},
            "outputs": [
                {
                    "data": {
                        "text/plain": [
                            "tensor(0.3855)"
                        ]
                    },
                    "execution_count": 58,
                    "metadata": {},
                    "output_type": "execute_result"
                }
            ],
            "source": [
                "torch_q = torch.tensor([probs_q, probs_q])\n",
                "torch_p = torch.tensor(probs_p)\n",
                "\n",
                "F.kl_div(torch_q.log(), torch_p, reduction='sum')"
            ]
        },
        {
            "cell_type": "code",
            "execution_count": 7,
            "metadata": {},
            "outputs": [
                {
                    "data": {
                        "text/plain": [
                            "tensor(0.2231)"
                        ]
                    },
                    "execution_count": 7,
                    "metadata": {},
                    "output_type": "execute_result"
                }
            ],
            "source": [
                "torch.sum(torch_q * (torch.log(torch_q) - torch.log(torch_p)))"
            ]
        },
        {
            "cell_type": "code",
            "execution_count": 49,
            "metadata": {},
            "outputs": [],
            "source": [
                "pred = torch.distributions.one_hot_categorical.OneHotCategorical(probs=torch_p)\n",
                "var_pred =  torch.distributions.categorical.Categorical(probs=torch_p)"
            ]
        },
        {
            "cell_type": "code",
            "execution_count": 50,
            "metadata": {},
            "outputs": [
                {
                    "data": {
                        "text/plain": [
                            "tensor(-2.3026)"
                        ]
                    },
                    "execution_count": 50,
                    "metadata": {},
                    "output_type": "execute_result"
                }
            ],
            "source": [
                "pred.log_prob(torch_q)"
            ]
        },
        {
            "cell_type": "code",
            "execution_count": 51,
            "metadata": {},
            "outputs": [
                {
                    "data": {
                        "text/plain": [
                            "tensor([-2.3026, -2.3026, -2.3026, -2.3026])"
                        ]
                    },
                    "execution_count": 51,
                    "metadata": {},
                    "output_type": "execute_result"
                }
            ],
            "source": [
                "var_pred.log_prob(torch_q)"
            ]
        },
        {
            "cell_type": "code",
            "execution_count": 16,
            "metadata": {},
            "outputs": [
                {
                    "data": {
                        "text/plain": [
                            "tensor(-2.4730)"
                        ]
                    },
                    "execution_count": 16,
                    "metadata": {},
                    "output_type": "execute_result"
                }
            ],
            "source": [
                "- F.binary_cross_entropy_with_logits(torch_p.log(), torch_q, reduction='sum')"
            ]
        },
        {
            "cell_type": "code",
            "execution_count": 59,
            "metadata": {},
            "outputs": [
                {
                    "data": {
                        "text/plain": [
                            "tensor([3, 3])"
                        ]
                    },
                    "execution_count": 59,
                    "metadata": {},
                    "output_type": "execute_result"
                }
            ],
            "source": [
                "indices = torch_q.max(-1)[1]\n",
                "indices"
            ]
        },
        {
            "cell_type": "code",
            "execution_count": 60,
            "metadata": {},
            "outputs": [
                {
                    "data": {
                        "text/plain": [
                            "tensor([[3],\n",
                            "        [3]])"
                        ]
                    },
                    "execution_count": 60,
                    "metadata": {},
                    "output_type": "execute_result"
                }
            ],
            "source": [
                "target = indices.long().unsqueeze(-1)\n",
                "target"
            ]
        },
        {
            "cell_type": "code",
            "execution_count": 61,
            "metadata": {},
            "outputs": [
                {
                    "data": {
                        "text/plain": [
                            "tensor([[3, 3, 3, 3],\n",
                            "        [3, 3, 3, 3]])"
                        ]
                    },
                    "execution_count": 61,
                    "metadata": {},
                    "output_type": "execute_result"
                }
            ],
            "source": [
                "value, log_pmf = torch.broadcast_tensors(target, torch_p.log())\n",
                "value"
            ]
        },
        {
            "cell_type": "code",
            "execution_count": 62,
            "metadata": {},
            "outputs": [
                {
                    "data": {
                        "text/plain": [
                            "tensor([[3],\n",
                            "        [3]])"
                        ]
                    },
                    "execution_count": 62,
                    "metadata": {},
                    "output_type": "execute_result"
                }
            ],
            "source": [
                "value = value[..., :1]\n",
                "value"
            ]
        },
        {
            "cell_type": "code",
            "execution_count": 63,
            "metadata": {},
            "outputs": [
                {
                    "data": {
                        "text/plain": [
                            "tensor([-2.3026, -2.3026])"
                        ]
                    },
                    "execution_count": 63,
                    "metadata": {},
                    "output_type": "execute_result"
                }
            ],
            "source": [
                "log_pmf.gather(-1, value).squeeze(-1)"
            ]
        },
        {
            "cell_type": "code",
            "execution_count": null,
            "metadata": {},
            "outputs": [],
            "source": []
        }
    ],
    "metadata": {
        "kernelspec": {
            "display_name": "Python 3",
            "language": "python",
            "name": "python3"
        },
        "language_info": {
            "codemirror_mode": {
                "name": "ipython",
                "version": 3
            },
            "file_extension": ".py",
            "mimetype": "text/x-python",
            "name": "python",
            "nbconvert_exporter": "python",
            "pygments_lexer": "ipython3",
            "version": "3.7.6"
        }
    },
    "nbformat": 4,
    "nbformat_minor": 4
}
